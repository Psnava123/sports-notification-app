{
 "cells": [
  {
   "cell_type": "code",
   "execution_count": 4,
   "metadata": {},
   "outputs": [
    {
     "name": "stderr",
     "output_type": "stream",
     "text": [
      "Task exception was never retrieved\n",
      "future: <Task finished name='Task-17' coro=<Server.serve() done, defined at C:\\Users\\KIIT\\AppData\\Local\\Packages\\PythonSoftwareFoundation.Python.3.10_qbz5n2kfra8p0\\LocalCache\\local-packages\\Python310\\site-packages\\uvicorn\\server.py:68> exception=KeyboardInterrupt()>\n",
      "Traceback (most recent call last):\n",
      "  File \"C:\\Users\\KIIT\\AppData\\Local\\Packages\\PythonSoftwareFoundation.Python.3.10_qbz5n2kfra8p0\\LocalCache\\local-packages\\Python310\\site-packages\\uvicorn\\main.py\", line 579, in run\n",
      "    server.run()\n",
      "  File \"C:\\Users\\KIIT\\AppData\\Local\\Packages\\PythonSoftwareFoundation.Python.3.10_qbz5n2kfra8p0\\LocalCache\\local-packages\\Python310\\site-packages\\uvicorn\\server.py\", line 66, in run\n",
      "    return asyncio.run(self.serve(sockets=sockets))\n",
      "  File \"C:\\Users\\KIIT\\AppData\\Local\\Packages\\PythonSoftwareFoundation.Python.3.10_qbz5n2kfra8p0\\LocalCache\\local-packages\\Python310\\site-packages\\nest_asyncio.py\", line 31, in run\n",
      "    return loop.run_until_complete(task)\n",
      "  File \"C:\\Users\\KIIT\\AppData\\Local\\Packages\\PythonSoftwareFoundation.Python.3.10_qbz5n2kfra8p0\\LocalCache\\local-packages\\Python310\\site-packages\\nest_asyncio.py\", line 93, in run_until_complete\n",
      "    self._run_once()\n",
      "  File \"C:\\Users\\KIIT\\AppData\\Local\\Packages\\PythonSoftwareFoundation.Python.3.10_qbz5n2kfra8p0\\LocalCache\\local-packages\\Python310\\site-packages\\nest_asyncio.py\", line 129, in _run_once\n",
      "    handle._run()\n",
      "  File \"C:\\Program Files\\WindowsApps\\PythonSoftwareFoundation.Python.3.10_3.10.3056.0_x64__qbz5n2kfra8p0\\lib\\asyncio\\events.py\", line 80, in _run\n",
      "    self._context.run(self._callback, *self._args)\n",
      "  File \"C:\\Program Files\\WindowsApps\\PythonSoftwareFoundation.Python.3.10_3.10.3056.0_x64__qbz5n2kfra8p0\\lib\\asyncio\\tasks.py\", line 315, in __wakeup\n",
      "    self.__step()\n",
      "  File \"C:\\Users\\KIIT\\AppData\\Local\\Packages\\PythonSoftwareFoundation.Python.3.10_qbz5n2kfra8p0\\LocalCache\\local-packages\\Python310\\site-packages\\nest_asyncio.py\", line 205, in step\n",
      "    step_orig(task, exc)\n",
      "  File \"C:\\Program Files\\WindowsApps\\PythonSoftwareFoundation.Python.3.10_3.10.3056.0_x64__qbz5n2kfra8p0\\lib\\asyncio\\tasks.py\", line 232, in __step\n",
      "    result = coro.send(None)\n",
      "  File \"C:\\Users\\KIIT\\AppData\\Local\\Packages\\PythonSoftwareFoundation.Python.3.10_qbz5n2kfra8p0\\LocalCache\\local-packages\\Python310\\site-packages\\uvicorn\\server.py\", line 69, in serve\n",
      "    with self.capture_signals():\n",
      "  File \"C:\\Program Files\\WindowsApps\\PythonSoftwareFoundation.Python.3.10_3.10.3056.0_x64__qbz5n2kfra8p0\\lib\\contextlib.py\", line 142, in __exit__\n",
      "    next(self.gen)\n",
      "  File \"C:\\Users\\KIIT\\AppData\\Local\\Packages\\PythonSoftwareFoundation.Python.3.10_qbz5n2kfra8p0\\LocalCache\\local-packages\\Python310\\site-packages\\uvicorn\\server.py\", line 330, in capture_signals\n",
      "    signal.raise_signal(captured_signal)\n",
      "KeyboardInterrupt\n",
      "Task exception was never retrieved\n",
      "future: <Task finished name='Task-24' coro=<Server.serve() done, defined at C:\\Users\\KIIT\\AppData\\Local\\Packages\\PythonSoftwareFoundation.Python.3.10_qbz5n2kfra8p0\\LocalCache\\local-packages\\Python310\\site-packages\\uvicorn\\server.py:68> exception=KeyboardInterrupt()>\n",
      "Traceback (most recent call last):\n",
      "  File \"C:\\Users\\KIIT\\AppData\\Local\\Packages\\PythonSoftwareFoundation.Python.3.10_qbz5n2kfra8p0\\LocalCache\\local-packages\\Python310\\site-packages\\uvicorn\\main.py\", line 579, in run\n",
      "    server.run()\n",
      "  File \"C:\\Users\\KIIT\\AppData\\Local\\Packages\\PythonSoftwareFoundation.Python.3.10_qbz5n2kfra8p0\\LocalCache\\local-packages\\Python310\\site-packages\\uvicorn\\server.py\", line 66, in run\n",
      "    return asyncio.run(self.serve(sockets=sockets))\n",
      "  File \"C:\\Users\\KIIT\\AppData\\Local\\Packages\\PythonSoftwareFoundation.Python.3.10_qbz5n2kfra8p0\\LocalCache\\local-packages\\Python310\\site-packages\\nest_asyncio.py\", line 31, in run\n",
      "    return loop.run_until_complete(task)\n",
      "  File \"C:\\Users\\KIIT\\AppData\\Local\\Packages\\PythonSoftwareFoundation.Python.3.10_qbz5n2kfra8p0\\LocalCache\\local-packages\\Python310\\site-packages\\nest_asyncio.py\", line 93, in run_until_complete\n",
      "    self._run_once()\n",
      "  File \"C:\\Users\\KIIT\\AppData\\Local\\Packages\\PythonSoftwareFoundation.Python.3.10_qbz5n2kfra8p0\\LocalCache\\local-packages\\Python310\\site-packages\\nest_asyncio.py\", line 129, in _run_once\n",
      "    handle._run()\n",
      "  File \"C:\\Program Files\\WindowsApps\\PythonSoftwareFoundation.Python.3.10_3.10.3056.0_x64__qbz5n2kfra8p0\\lib\\asyncio\\events.py\", line 80, in _run\n",
      "    self._context.run(self._callback, *self._args)\n",
      "  File \"C:\\Program Files\\WindowsApps\\PythonSoftwareFoundation.Python.3.10_3.10.3056.0_x64__qbz5n2kfra8p0\\lib\\asyncio\\tasks.py\", line 315, in __wakeup\n",
      "    self.__step()\n",
      "  File \"C:\\Users\\KIIT\\AppData\\Local\\Packages\\PythonSoftwareFoundation.Python.3.10_qbz5n2kfra8p0\\LocalCache\\local-packages\\Python310\\site-packages\\nest_asyncio.py\", line 205, in step\n",
      "    step_orig(task, exc)\n",
      "  File \"C:\\Program Files\\WindowsApps\\PythonSoftwareFoundation.Python.3.10_3.10.3056.0_x64__qbz5n2kfra8p0\\lib\\asyncio\\tasks.py\", line 232, in __step\n",
      "    result = coro.send(None)\n",
      "  File \"C:\\Users\\KIIT\\AppData\\Local\\Packages\\PythonSoftwareFoundation.Python.3.10_qbz5n2kfra8p0\\LocalCache\\local-packages\\Python310\\site-packages\\uvicorn\\server.py\", line 69, in serve\n",
      "    with self.capture_signals():\n",
      "  File \"C:\\Program Files\\WindowsApps\\PythonSoftwareFoundation.Python.3.10_3.10.3056.0_x64__qbz5n2kfra8p0\\lib\\contextlib.py\", line 142, in __exit__\n",
      "    next(self.gen)\n",
      "  File \"C:\\Users\\KIIT\\AppData\\Local\\Packages\\PythonSoftwareFoundation.Python.3.10_qbz5n2kfra8p0\\LocalCache\\local-packages\\Python310\\site-packages\\uvicorn\\server.py\", line 330, in capture_signals\n",
      "    signal.raise_signal(captured_signal)\n",
      "KeyboardInterrupt\n",
      "C:\\Users\\KIIT\\AppData\\Local\\Temp\\ipykernel_22028\\1320915071.py:75: DeprecationWarning: \n",
      "        on_event is deprecated, use lifespan event handlers instead.\n",
      "\n",
      "        Read more about it in the\n",
      "        [FastAPI docs for Lifespan Events](https://fastapi.tiangolo.com/advanced/events/).\n",
      "        \n",
      "  @app.on_event(\"startup\")\n",
      "C:\\Users\\KIIT\\AppData\\Local\\Temp\\ipykernel_22028\\1320915071.py:80: DeprecationWarning: \n",
      "        on_event is deprecated, use lifespan event handlers instead.\n",
      "\n",
      "        Read more about it in the\n",
      "        [FastAPI docs for Lifespan Events](https://fastapi.tiangolo.com/advanced/events/).\n",
      "        \n",
      "  @app.on_event(\"shutdown\")\n",
      "INFO:     Started server process [22028]\n",
      "INFO:     Waiting for application startup.\n",
      "INFO:     Application startup complete.\n",
      "INFO:     Uvicorn running on http://127.0.0.1:8000 (Press CTRL+C to quit)\n"
     ]
    },
    {
     "name": "stdout",
     "output_type": "stream",
     "text": [
      "INFO:     127.0.0.1:64709 - \"GET / HTTP/1.1\" 200 OK\n",
      "INFO:     127.0.0.1:64709 - \"GET /matches/cricket HTTP/1.1\" 200 OK\n",
      "INFO:     127.0.0.1:64718 - \"GET / HTTP/1.1\" 200 OK\n",
      "INFO:     127.0.0.1:64718 - \"GET /frontend/style.css HTTP/1.1\" 200 OK\n",
      "INFO:     127.0.0.1:64718 - \"GET /frontend/script.js HTTP/1.1\" 200 OK\n"
     ]
    },
    {
     "name": "stderr",
     "output_type": "stream",
     "text": [
      "INFO:     Shutting down\n",
      "INFO:     Waiting for application shutdown.\n",
      "INFO:     Application shutdown complete.\n",
      "INFO:     Finished server process [22028]\n"
     ]
    }
   ],
   "source": [
    "from fastapi import FastAPI\n",
    "import uvicorn\n",
    "\n",
    "app = FastAPI()\n",
    "\n",
    "@app.get(\"/\")\n",
    "def home():\n",
    "    return {\"message\": \"Hello from Jupyter Notebook!\"}"
   ]
  },
  {
   "cell_type": "code",
   "execution_count": null,
   "metadata": {},
   "outputs": [
    {
     "name": "stdout",
     "output_type": "stream",
     "text": [
      "Requirement already satisfied: nbconvert in c:\\users\\kiit\\appdata\\local\\packages\\pythonsoftwarefoundation.python.3.10_qbz5n2kfra8p0\\localcache\\local-packages\\python310\\site-packages (7.12.0)\n",
      "Requirement already satisfied: jupyter-core>=4.7 in c:\\users\\kiit\\appdata\\local\\packages\\pythonsoftwarefoundation.python.3.10_qbz5n2kfra8p0\\localcache\\local-packages\\python310\\site-packages (from nbconvert) (5.5.0)\n",
      "Requirement already satisfied: jupyterlab-pygments in c:\\users\\kiit\\appdata\\local\\packages\\pythonsoftwarefoundation.python.3.10_qbz5n2kfra8p0\\localcache\\local-packages\\python310\\site-packages (from nbconvert) (0.3.0)\n",
      "Requirement already satisfied: packaging in c:\\users\\kiit\\appdata\\local\\packages\\pythonsoftwarefoundation.python.3.10_qbz5n2kfra8p0\\localcache\\local-packages\\python310\\site-packages (from nbconvert) (23.2)\n",
      "Requirement already satisfied: traitlets>=5.1 in c:\\users\\kiit\\appdata\\local\\packages\\pythonsoftwarefoundation.python.3.10_qbz5n2kfra8p0\\localcache\\local-packages\\python310\\site-packages (from nbconvert) (5.14.0)\n",
      "Requirement already satisfied: defusedxml in c:\\users\\kiit\\appdata\\local\\packages\\pythonsoftwarefoundation.python.3.10_qbz5n2kfra8p0\\localcache\\local-packages\\python310\\site-packages (from nbconvert) (0.7.1)\n",
      "Requirement already satisfied: mistune<4,>=2.0.3 in c:\\users\\kiit\\appdata\\local\\packages\\pythonsoftwarefoundation.python.3.10_qbz5n2kfra8p0\\localcache\\local-packages\\python310\\site-packages (from nbconvert) (3.0.2)\n",
      "Requirement already satisfied: pandocfilters>=1.4.1 in c:\\users\\kiit\\appdata\\local\\packages\\pythonsoftwarefoundation.python.3.10_qbz5n2kfra8p0\\localcache\\local-packages\\python310\\site-packages (from nbconvert) (1.5.0)\n",
      "Requirement already satisfied: bleach!=5.0.0 in c:\\users\\kiit\\appdata\\local\\packages\\pythonsoftwarefoundation.python.3.10_qbz5n2kfra8p0\\localcache\\local-packages\\python310\\site-packages (from nbconvert) (6.1.0)\n",
      "Requirement already satisfied: pygments>=2.4.1 in c:\\users\\kiit\\appdata\\local\\packages\\pythonsoftwarefoundation.python.3.10_qbz5n2kfra8p0\\localcache\\local-packages\\python310\\site-packages (from nbconvert) (2.17.2)\n",
      "Requirement already satisfied: tinycss2 in c:\\users\\kiit\\appdata\\local\\packages\\pythonsoftwarefoundation.python.3.10_qbz5n2kfra8p0\\localcache\\local-packages\\python310\\site-packages (from nbconvert) (1.2.1)\n",
      "Requirement already satisfied: markupsafe>=2.0 in c:\\users\\kiit\\appdata\\local\\packages\\pythonsoftwarefoundation.python.3.10_qbz5n2kfra8p0\\localcache\\local-packages\\python310\\site-packages (from nbconvert) (2.1.3)\n",
      "Requirement already satisfied: beautifulsoup4 in c:\\users\\kiit\\appdata\\local\\packages\\pythonsoftwarefoundation.python.3.10_qbz5n2kfra8p0\\localcache\\local-packages\\python310\\site-packages (from nbconvert) (4.12.2)\n",
      "Requirement already satisfied: nbclient>=0.5.0 in c:\\users\\kiit\\appdata\\local\\packages\\pythonsoftwarefoundation.python.3.10_qbz5n2kfra8p0\\localcache\\local-packages\\python310\\site-packages (from nbconvert) (0.9.0)\n",
      "Requirement already satisfied: nbformat>=5.7 in c:\\users\\kiit\\appdata\\local\\packages\\pythonsoftwarefoundation.python.3.10_qbz5n2kfra8p0\\localcache\\local-packages\\python310\\site-packages (from nbconvert) (5.9.2)\n",
      "Requirement already satisfied: jinja2>=3.0 in c:\\users\\kiit\\appdata\\local\\packages\\pythonsoftwarefoundation.python.3.10_qbz5n2kfra8p0\\localcache\\local-packages\\python310\\site-packages (from nbconvert) (3.1.2)\n",
      "Requirement already satisfied: six>=1.9.0 in c:\\users\\kiit\\appdata\\local\\packages\\pythonsoftwarefoundation.python.3.10_qbz5n2kfra8p0\\localcache\\local-packages\\python310\\site-packages (from bleach!=5.0.0->nbconvert) (1.16.0)\n",
      "Requirement already satisfied: webencodings in c:\\users\\kiit\\appdata\\local\\packages\\pythonsoftwarefoundation.python.3.10_qbz5n2kfra8p0\\localcache\\local-packages\\python310\\site-packages (from bleach!=5.0.0->nbconvert) (0.5.1)\n",
      "Requirement already satisfied: pywin32>=300 in c:\\users\\kiit\\appdata\\local\\packages\\pythonsoftwarefoundation.python.3.10_qbz5n2kfra8p0\\localcache\\local-packages\\python310\\site-packages (from jupyter-core>=4.7->nbconvert) (306)\n",
      "Requirement already satisfied: platformdirs>=2.5 in c:\\users\\kiit\\appdata\\local\\packages\\pythonsoftwarefoundation.python.3.10_qbz5n2kfra8p0\\localcache\\local-packages\\python310\\site-packages (from jupyter-core>=4.7->nbconvert) (4.1.0)\n",
      "Requirement already satisfied: jupyter-client>=6.1.12 in c:\\users\\kiit\\appdata\\local\\packages\\pythonsoftwarefoundation.python.3.10_qbz5n2kfra8p0\\localcache\\local-packages\\python310\\site-packages (from nbclient>=0.5.0->nbconvert) (7.4.9)\n",
      "Requirement already satisfied: fastjsonschema in c:\\users\\kiit\\appdata\\local\\packages\\pythonsoftwarefoundation.python.3.10_qbz5n2kfra8p0\\localcache\\local-packages\\python310\\site-packages (from nbformat>=5.7->nbconvert) (2.19.0)\n",
      "Requirement already satisfied: jsonschema>=2.6 in c:\\users\\kiit\\appdata\\local\\packages\\pythonsoftwarefoundation.python.3.10_qbz5n2kfra8p0\\localcache\\local-packages\\python310\\site-packages (from nbformat>=5.7->nbconvert) (4.20.0)\n",
      "Requirement already satisfied: soupsieve>1.2 in c:\\users\\kiit\\appdata\\local\\packages\\pythonsoftwarefoundation.python.3.10_qbz5n2kfra8p0\\localcache\\local-packages\\python310\\site-packages (from beautifulsoup4->nbconvert) (2.5)\n",
      "Requirement already satisfied: jsonschema-specifications>=2023.03.6 in c:\\users\\kiit\\appdata\\local\\packages\\pythonsoftwarefoundation.python.3.10_qbz5n2kfra8p0\\localcache\\local-packages\\python310\\site-packages (from jsonschema>=2.6->nbformat>=5.7->nbconvert) (2023.11.2)\n",
      "Requirement already satisfied: rpds-py>=0.7.1 in c:\\users\\kiit\\appdata\\local\\packages\\pythonsoftwarefoundation.python.3.10_qbz5n2kfra8p0\\localcache\\local-packages\\python310\\site-packages (from jsonschema>=2.6->nbformat>=5.7->nbconvert) (0.13.2)\n",
      "Requirement already satisfied: attrs>=22.2.0 in c:\\users\\kiit\\appdata\\local\\packages\\pythonsoftwarefoundation.python.3.10_qbz5n2kfra8p0\\localcache\\local-packages\\python310\\site-packages (from jsonschema>=2.6->nbformat>=5.7->nbconvert) (23.1.0)\n",
      "Requirement already satisfied: referencing>=0.28.4 in c:\\users\\kiit\\appdata\\local\\packages\\pythonsoftwarefoundation.python.3.10_qbz5n2kfra8p0\\localcache\\local-packages\\python310\\site-packages (from jsonschema>=2.6->nbformat>=5.7->nbconvert) (0.32.0)\n",
      "Requirement already satisfied: tornado>=6.2 in c:\\users\\kiit\\appdata\\local\\packages\\pythonsoftwarefoundation.python.3.10_qbz5n2kfra8p0\\localcache\\local-packages\\python310\\site-packages (from jupyter-client>=6.1.12->nbclient>=0.5.0->nbconvert) (6.4)\n",
      "Requirement already satisfied: pyzmq>=23.0 in c:\\users\\kiit\\appdata\\local\\packages\\pythonsoftwarefoundation.python.3.10_qbz5n2kfra8p0\\localcache\\local-packages\\python310\\site-packages (from jupyter-client>=6.1.12->nbclient>=0.5.0->nbconvert) (24.0.1)\n",
      "Requirement already satisfied: nest-asyncio>=1.5.4 in c:\\users\\kiit\\appdata\\local\\packages\\pythonsoftwarefoundation.python.3.10_qbz5n2kfra8p0\\localcache\\local-packages\\python310\\site-packages (from jupyter-client>=6.1.12->nbclient>=0.5.0->nbconvert) (1.5.8)\n",
      "Requirement already satisfied: python-dateutil>=2.8.2 in c:\\users\\kiit\\appdata\\local\\packages\\pythonsoftwarefoundation.python.3.10_qbz5n2kfra8p0\\localcache\\local-packages\\python310\\site-packages (from jupyter-client>=6.1.12->nbclient>=0.5.0->nbconvert) (2.8.2)\n",
      "Requirement already satisfied: entrypoints in c:\\users\\kiit\\appdata\\local\\packages\\pythonsoftwarefoundation.python.3.10_qbz5n2kfra8p0\\localcache\\local-packages\\python310\\site-packages (from jupyter-client>=6.1.12->nbclient>=0.5.0->nbconvert) (0.4)\n"
     ]
    },
    {
     "name": "stderr",
     "output_type": "stream",
     "text": [
      "\n",
      "[notice] A new release of pip is available: 23.0.1 -> 25.0\n",
      "[notice] To update, run: C:\\Users\\KIIT\\AppData\\Local\\Microsoft\\WindowsApps\\PythonSoftwareFoundation.Python.3.10_qbz5n2kfra8p0\\python.exe -m pip install --upgrade pip\n"
     ]
    }
   ],
   "source": [
    "import os\n",
    "import requests\n",
    "from fastapi import FastAPI, BackgroundTasks\n",
    "import nest_asyncio\n",
    "import uvicorn\n",
    "from datetime import datetime\n",
    "from pushbullet import Pushbullet\n",
    "from apscheduler.schedulers.background import BackgroundScheduler\n",
    "from apscheduler.triggers.interval import IntervalTrigger\n",
    "from fastapi.responses import HTMLResponse\n",
    "from fastapi.staticfiles import StaticFiles\n",
    "\n",
    "# Initialize FastAPI\n",
    "app = FastAPI()\n",
    "\n",
    "# API Keys\n",
    "import os\n",
    "\n",
    "CRICKET_API_KEY = os.getenv(\"CRICKET_API_KEY\", \"b010864b-f0c8-414f-aebd-08f7996a1e69\")\n",
    "FOOTBALL_API_KEY = os.getenv(\"FOOTBALL_API_KEY\", \"c9751a3f6f4a4e7c9cd0721a71d6cd53\")\n",
    "PUSHBULLET_API_KEY = os.getenv(\"PUSHBULLET_API_KEY\", \"o.DV1U6GIbuhS3wrVhU82IywCrqmZyW2kD\")\n",
    "\n",
    "# Pushbullet instance\n",
    "pb = Pushbullet(PUSHBULLET_API_KEY)\n",
    "\n",
    "# API URLs\n",
    "CRICKET_API_URL = f\"https://api.cricapi.com/v1/currentMatches?apikey={CRICKET_API_KEY}\"\n",
    "FOOTBALL_API_URL = \"https://api.football-data.org/v4/matches\"\n",
    "FOOTBALL_API_HEADERS = {\"X-Auth-Token\": FOOTBALL_API_KEY}\n",
    "\n",
    "# Function to send notifications\n",
    "def send_notification(title, message):\n",
    "    pb.push_note(title, message)\n",
    "\n",
    "# Fetch cricket matches\n",
    "def get_cricket_matches():\n",
    "    response = requests.get(CRICKET_API_URL)\n",
    "    if response.status_code != 200:\n",
    "        return {\"error\": \"Failed to fetch Cricket API\"}\n",
    "\n",
    "    today = datetime.now().strftime('%Y-%m-%d')\n",
    "    matches = response.json().get(\"data\", [])\n",
    "    upcoming_matches = [m for m in matches if m.get(\"date\") >= today]\n",
    "\n",
    "    if upcoming_matches:\n",
    "        message = \"\\n\".join([f\"{m['name']} on {m['date']}\" for m in upcoming_matches])\n",
    "        send_notification(\"Upcoming Cricket Matches\", message)\n",
    "        return upcoming_matches\n",
    "    return {\"message\": \"No upcoming matches.\"}\n",
    "\n",
    "# Fetch football matches\n",
    "def get_football_matches():\n",
    "    response = requests.get(FOOTBALL_API_URL, headers=FOOTBALL_API_HEADERS)\n",
    "    if response.status_code != 200:\n",
    "        return {\"error\": \"Failed to fetch Football API\"}\n",
    "\n",
    "    matches = response.json().get(\"matches\", [])\n",
    "    upcoming_matches = [m for m in matches if m.get(\"status\") == \"SCHEDULED\"]\n",
    "\n",
    "    if upcoming_matches:\n",
    "        message = \"\\n\".join([f\"{m['homeTeam']['name']} vs {m['awayTeam']['name']} on {m['utcDate']}\" for m in upcoming_matches])\n",
    "        send_notification(\"Upcoming Football Matches\", message)\n",
    "        return upcoming_matches\n",
    "    return {\"message\": \"No upcoming matches.\"}\n",
    "\n",
    "# Schedule periodic task\n",
    "def schedule_task():\n",
    "    scheduler = BackgroundScheduler()\n",
    "    scheduler.add_job(get_cricket_matches, IntervalTrigger(hours=1), id='cricket_task')\n",
    "    scheduler.add_job(get_football_matches, IntervalTrigger(hours=1), id='football_task')\n",
    "    scheduler.start()\n",
    "\n",
    "\n",
    "# Startup event\n",
    "@app.on_event(\"startup\")\n",
    "async def on_startup():\n",
    "    schedule_task()\n",
    "\n",
    "# Shutdown event\n",
    "@app.on_event(\"shutdown\")\n",
    "async def on_shutdown():\n",
    "    # You can add shutdown tasks here if necessary\n",
    "    pass\n",
    "\n",
    "# Serve homepage (index.html)\n",
    "@app.get(\"/\")\n",
    "async def home():\n",
    "    frontend_path = \"C:/Users/KIIT/Desktop/sportsnoti/frontend/index.html\"\n",
    "    if os.path.exists(frontend_path):\n",
    "        with open(frontend_path, \"r\") as file:\n",
    "            return HTMLResponse(file.read())\n",
    "    else:\n",
    "        return {\"error\": \"index.html not found\"}\n",
    "\n",
    "# Mount frontend static files (e.g., CSS, JS) for serving\n",
    "app.mount(\"/frontend\", StaticFiles(directory=\"C:/Users/KIIT/Desktop/sportsnoti/frontend\"), name=\"frontend\")\n",
    "\n",
    "# API Endpoints\n",
    "@app.get(\"/matches/cricket\")\n",
    "def cricket_endpoint(background_tasks: BackgroundTasks):\n",
    "    background_tasks.add_task(get_cricket_matches)\n",
    "    return {\"message\": \"Checking for upcoming cricket matches.\"}\n",
    "\n",
    "@app.get(\"/matches/football\")\n",
    "def football_endpoint(background_tasks: BackgroundTasks):\n",
    "    background_tasks.add_task(get_football_matches)\n",
    "    return {\"message\": \"Checking for upcoming football matches.\"}\n",
    "\n",
    "# Allow FastAPI in Jupyter\n",
    "nest_asyncio.apply()\n",
    "\n",
    "# Run server\n",
    "if __name__ == \"__main__\":\n",
    "    uvicorn.run(app, host=\"127.0.0.1\", port=8000)\n",
    "\n"
   ]
  },
  {
   "cell_type": "code",
   "execution_count": null,
   "metadata": {},
   "outputs": [],
   "source": [
    "if __name__ == \"__main__\":\n",
    "    uvicorn.run(app, host=\"0.0.0.0\", port=10000)"
   ]
  },
  {
   "cell_type": "code",
   "execution_count": 2,
   "metadata": {},
   "outputs": [],
   "source": [
    "!pip freeze > requirements.txt"
   ]
  },
  {
   "cell_type": "code",
   "execution_count": 4,
   "metadata": {},
   "outputs": [
    {
     "name": "stdout",
     "output_type": "stream",
     "text": [
      "Initialized empty Git repository in C:/Users/KIIT/Desktop/sportsnoti/backend/.git/\n"
     ]
    },
    {
     "name": "stderr",
     "output_type": "stream",
     "text": [
      "warning: in the working copy of 'main.ipynb', LF will be replaced by CRLF the next time Git touches it\n"
     ]
    },
    {
     "name": "stdout",
     "output_type": "stream",
     "text": [
      "[master (root-commit) 2da87b4] Deploying Jupyter Notebook as FastAPI app\n",
      " 3 files changed, 468 insertions(+)\n",
      " create mode 100644 main.ipynb\n",
      " create mode 100644 procfile.txt\n",
      " create mode 100644 requirements.txt\n"
     ]
    }
   ],
   "source": [
    "!git init\n",
    "!git add .\n",
    "!git commit -m \"Deploying all\""
   ]
  },
  {
   "cell_type": "code",
   "execution_count": 6,
   "metadata": {},
   "outputs": [
    {
     "name": "stderr",
     "output_type": "stream",
     "text": [
      "error: remote origin already exists.\n"
     ]
    },
    {
     "name": "stdout",
     "output_type": "stream",
     "text": [
      "branch 'main' set up to track 'origin/main'.\n"
     ]
    },
    {
     "name": "stderr",
     "output_type": "stream",
     "text": [
      "To https://github.com/Psnava123/sports-notification-app.git\n",
      " * [new branch]      main -> main\n"
     ]
    }
   ],
   "source": [
    "!git remote add origin https://github.com/Psnava123/sports-notification-app/.git\n",
    "!git branch -M main\n",
    "!git push -u origin main"
   ]
  },
  {
   "cell_type": "code",
   "execution_count": null,
   "metadata": {},
   "outputs": [
    {
     "name": "stderr",
     "output_type": "stream",
     "text": [
      "fatal: not a git repository (or any of the parent directories): .git\n"
     ]
    }
   ],
   "source": [
    "\n"
   ]
  }
 ],
 "metadata": {
  "kernelspec": {
   "display_name": "Python 3",
   "language": "python",
   "name": "python3"
  },
  "language_info": {
   "codemirror_mode": {
    "name": "ipython",
    "version": 3
   },
   "file_extension": ".py",
   "mimetype": "text/x-python",
   "name": "python",
   "nbconvert_exporter": "python",
   "pygments_lexer": "ipython3",
   "version": "3.10.11"
  }
 },
 "nbformat": 4,
 "nbformat_minor": 2
}
